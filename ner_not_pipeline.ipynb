{
  "cells": [
    {
      "cell_type": "markdown",
      "metadata": {
        "id": "4zSSlTgxLAwK"
      },
      "source": [
        "# NER and Network-of-Terms pipeline"
      ]
    },
    {
      "cell_type": "markdown",
      "metadata": {
        "id": "060bD-mgZM4J"
      },
      "source": [
        "Basic experiment for creating an NER and keyword extraction pipeline in combination with querying the [NDE Netwerk of Terms](https://github.com/netwerk-digitaal-erfgoed/network-of-terms). The code inspired by the Hands-On 1.2 code from the [Open HPI Knowledge Graph Course 2023](https://open.hpi.de/courses/knowledgegraphs2023).\n",
        "\n",
        "This colab contains the (slightly adjusted) code from the [ner-not-pipeline](https://github.com/EnnoMeijers/ner-not-pipeline) repo."
      ]
    },
    {
      "cell_type": "markdown",
      "metadata": {
        "id": "_3K7oE8SKaQl"
      },
      "source": [
        "We'll start with downloading and importing required libs"
      ]
    },
    {
      "cell_type": "code",
      "execution_count": null,
      "metadata": {
        "colab": {
          "background_save": true,
          "base_uri": "https://localhost:8080/"
        },
        "id": "fcodkn0Dot0D",
        "outputId": "898de72a-6fd4-43fe-e14b-96fe12d7490a"
      },
      "outputs": [
        {
          "name": "stdout",
          "output_type": "stream",
          "text": [
            "Collecting python_graphql_client\n",
            "  Downloading python_graphql_client-0.4.3-py3-none-any.whl (4.9 kB)\n",
            "Requirement already satisfied: aiohttp~=3.0 in /usr/local/lib/python3.10/dist-packages (from python_graphql_client) (3.9.3)\n",
            "Requirement already satisfied: requests~=2.0 in /usr/local/lib/python3.10/dist-packages (from python_graphql_client) (2.31.0)\n",
            "Collecting websockets>=5.0 (from python_graphql_client)\n",
            "  Downloading websockets-12.0-cp310-cp310-manylinux_2_5_x86_64.manylinux1_x86_64.manylinux_2_17_x86_64.manylinux2014_x86_64.whl (130 kB)\n",
            "\u001b[2K     \u001b[90m━━━━━━━━━━━━━━━━━━━━━━━━━━━━━━━━━━━━━━━━\u001b[0m \u001b[32m130.2/130.2 kB\u001b[0m \u001b[31m3.4 MB/s\u001b[0m eta \u001b[36m0:00:00\u001b[0m\n",
            "\u001b[?25hRequirement already satisfied: aiosignal>=1.1.2 in /usr/local/lib/python3.10/dist-packages (from aiohttp~=3.0->python_graphql_client) (1.3.1)\n",
            "Requirement already satisfied: attrs>=17.3.0 in /usr/local/lib/python3.10/dist-packages (from aiohttp~=3.0->python_graphql_client) (23.2.0)\n",
            "Requirement already satisfied: frozenlist>=1.1.1 in /usr/local/lib/python3.10/dist-packages (from aiohttp~=3.0->python_graphql_client) (1.4.1)\n",
            "Requirement already satisfied: multidict<7.0,>=4.5 in /usr/local/lib/python3.10/dist-packages (from aiohttp~=3.0->python_graphql_client) (6.0.5)\n",
            "Requirement already satisfied: yarl<2.0,>=1.0 in /usr/local/lib/python3.10/dist-packages (from aiohttp~=3.0->python_graphql_client) (1.9.4)\n",
            "Requirement already satisfied: async-timeout<5.0,>=4.0 in /usr/local/lib/python3.10/dist-packages (from aiohttp~=3.0->python_graphql_client) (4.0.3)\n",
            "Requirement already satisfied: charset-normalizer<4,>=2 in /usr/local/lib/python3.10/dist-packages (from requests~=2.0->python_graphql_client) (3.3.2)\n",
            "Requirement already satisfied: idna<4,>=2.5 in /usr/local/lib/python3.10/dist-packages (from requests~=2.0->python_graphql_client) (3.6)\n",
            "Requirement already satisfied: urllib3<3,>=1.21.1 in /usr/local/lib/python3.10/dist-packages (from requests~=2.0->python_graphql_client) (2.0.7)\n",
            "Requirement already satisfied: certifi>=2017.4.17 in /usr/local/lib/python3.10/dist-packages (from requests~=2.0->python_graphql_client) (2024.2.2)\n",
            "Installing collected packages: websockets, python_graphql_client\n",
            "Successfully installed python_graphql_client-0.4.3 websockets-12.0\n",
            "Collecting nl-core-news-lg==3.7.0\n",
            "  Downloading https://github.com/explosion/spacy-models/releases/download/nl_core_news_lg-3.7.0/nl_core_news_lg-3.7.0-py3-none-any.whl (568.1 MB)\n",
            "\u001b[2K     \u001b[90m━━━━━━━━━━━━━━━━━━━━━━━━━━━━━━━━━━━━━━━━\u001b[0m \u001b[32m568.1/568.1 MB\u001b[0m \u001b[31m1.2 MB/s\u001b[0m eta \u001b[36m0:00:00\u001b[0m\n",
            "\u001b[?25hRequirement already satisfied: spacy<3.8.0,>=3.7.0 in /usr/local/lib/python3.10/dist-packages (from nl-core-news-lg==3.7.0) (3.7.4)\n",
            "Requirement already satisfied: spacy-legacy<3.1.0,>=3.0.11 in /usr/local/lib/python3.10/dist-packages (from spacy<3.8.0,>=3.7.0->nl-core-news-lg==3.7.0) (3.0.12)\n",
            "Requirement already satisfied: spacy-loggers<2.0.0,>=1.0.0 in /usr/local/lib/python3.10/dist-packages (from spacy<3.8.0,>=3.7.0->nl-core-news-lg==3.7.0) (1.0.5)\n",
            "Requirement already satisfied: murmurhash<1.1.0,>=0.28.0 in /usr/local/lib/python3.10/dist-packages (from spacy<3.8.0,>=3.7.0->nl-core-news-lg==3.7.0) (1.0.10)\n",
            "Requirement already satisfied: cymem<2.1.0,>=2.0.2 in /usr/local/lib/python3.10/dist-packages (from spacy<3.8.0,>=3.7.0->nl-core-news-lg==3.7.0) (2.0.8)\n",
            "Requirement already satisfied: preshed<3.1.0,>=3.0.2 in /usr/local/lib/python3.10/dist-packages (from spacy<3.8.0,>=3.7.0->nl-core-news-lg==3.7.0) (3.0.9)\n",
            "Requirement already satisfied: thinc<8.3.0,>=8.2.2 in /usr/local/lib/python3.10/dist-packages (from spacy<3.8.0,>=3.7.0->nl-core-news-lg==3.7.0) (8.2.3)\n",
            "Requirement already satisfied: wasabi<1.2.0,>=0.9.1 in /usr/local/lib/python3.10/dist-packages (from spacy<3.8.0,>=3.7.0->nl-core-news-lg==3.7.0) (1.1.2)\n",
            "Requirement already satisfied: srsly<3.0.0,>=2.4.3 in /usr/local/lib/python3.10/dist-packages (from spacy<3.8.0,>=3.7.0->nl-core-news-lg==3.7.0) (2.4.8)\n",
            "Requirement already satisfied: catalogue<2.1.0,>=2.0.6 in /usr/local/lib/python3.10/dist-packages (from spacy<3.8.0,>=3.7.0->nl-core-news-lg==3.7.0) (2.0.10)\n",
            "Requirement already satisfied: weasel<0.4.0,>=0.1.0 in /usr/local/lib/python3.10/dist-packages (from spacy<3.8.0,>=3.7.0->nl-core-news-lg==3.7.0) (0.3.4)\n",
            "Requirement already satisfied: typer<0.10.0,>=0.3.0 in /usr/local/lib/python3.10/dist-packages (from spacy<3.8.0,>=3.7.0->nl-core-news-lg==3.7.0) (0.9.0)\n",
            "Requirement already satisfied: smart-open<7.0.0,>=5.2.1 in /usr/local/lib/python3.10/dist-packages (from spacy<3.8.0,>=3.7.0->nl-core-news-lg==3.7.0) (6.4.0)\n",
            "Requirement already satisfied: tqdm<5.0.0,>=4.38.0 in /usr/local/lib/python3.10/dist-packages (from spacy<3.8.0,>=3.7.0->nl-core-news-lg==3.7.0) (4.66.2)\n",
            "Requirement already satisfied: requests<3.0.0,>=2.13.0 in /usr/local/lib/python3.10/dist-packages (from spacy<3.8.0,>=3.7.0->nl-core-news-lg==3.7.0) (2.31.0)\n",
            "Requirement already satisfied: pydantic!=1.8,!=1.8.1,<3.0.0,>=1.7.4 in /usr/local/lib/python3.10/dist-packages (from spacy<3.8.0,>=3.7.0->nl-core-news-lg==3.7.0) (2.6.1)\n",
            "Requirement already satisfied: jinja2 in /usr/local/lib/python3.10/dist-packages (from spacy<3.8.0,>=3.7.0->nl-core-news-lg==3.7.0) (3.1.3)\n",
            "Requirement already satisfied: setuptools in /usr/local/lib/python3.10/dist-packages (from spacy<3.8.0,>=3.7.0->nl-core-news-lg==3.7.0) (67.7.2)\n",
            "Requirement already satisfied: packaging>=20.0 in /usr/local/lib/python3.10/dist-packages (from spacy<3.8.0,>=3.7.0->nl-core-news-lg==3.7.0) (23.2)\n",
            "Requirement already satisfied: langcodes<4.0.0,>=3.2.0 in /usr/local/lib/python3.10/dist-packages (from spacy<3.8.0,>=3.7.0->nl-core-news-lg==3.7.0) (3.3.0)\n",
            "Requirement already satisfied: numpy>=1.19.0 in /usr/local/lib/python3.10/dist-packages (from spacy<3.8.0,>=3.7.0->nl-core-news-lg==3.7.0) (1.25.2)\n",
            "Requirement already satisfied: annotated-types>=0.4.0 in /usr/local/lib/python3.10/dist-packages (from pydantic!=1.8,!=1.8.1,<3.0.0,>=1.7.4->spacy<3.8.0,>=3.7.0->nl-core-news-lg==3.7.0) (0.6.0)\n",
            "Requirement already satisfied: pydantic-core==2.16.2 in /usr/local/lib/python3.10/dist-packages (from pydantic!=1.8,!=1.8.1,<3.0.0,>=1.7.4->spacy<3.8.0,>=3.7.0->nl-core-news-lg==3.7.0) (2.16.2)\n",
            "Requirement already satisfied: typing-extensions>=4.6.1 in /usr/local/lib/python3.10/dist-packages (from pydantic!=1.8,!=1.8.1,<3.0.0,>=1.7.4->spacy<3.8.0,>=3.7.0->nl-core-news-lg==3.7.0) (4.9.0)\n",
            "Requirement already satisfied: charset-normalizer<4,>=2 in /usr/local/lib/python3.10/dist-packages (from requests<3.0.0,>=2.13.0->spacy<3.8.0,>=3.7.0->nl-core-news-lg==3.7.0) (3.3.2)\n",
            "Requirement already satisfied: idna<4,>=2.5 in /usr/local/lib/python3.10/dist-packages (from requests<3.0.0,>=2.13.0->spacy<3.8.0,>=3.7.0->nl-core-news-lg==3.7.0) (3.6)\n",
            "Requirement already satisfied: urllib3<3,>=1.21.1 in /usr/local/lib/python3.10/dist-packages (from requests<3.0.0,>=2.13.0->spacy<3.8.0,>=3.7.0->nl-core-news-lg==3.7.0) (2.0.7)\n",
            "Requirement already satisfied: certifi>=2017.4.17 in /usr/local/lib/python3.10/dist-packages (from requests<3.0.0,>=2.13.0->spacy<3.8.0,>=3.7.0->nl-core-news-lg==3.7.0) (2024.2.2)\n",
            "Requirement already satisfied: blis<0.8.0,>=0.7.8 in /usr/local/lib/python3.10/dist-packages (from thinc<8.3.0,>=8.2.2->spacy<3.8.0,>=3.7.0->nl-core-news-lg==3.7.0) (0.7.11)\n",
            "Requirement already satisfied: confection<1.0.0,>=0.0.1 in /usr/local/lib/python3.10/dist-packages (from thinc<8.3.0,>=8.2.2->spacy<3.8.0,>=3.7.0->nl-core-news-lg==3.7.0) (0.1.4)\n",
            "Requirement already satisfied: click<9.0.0,>=7.1.1 in /usr/local/lib/python3.10/dist-packages (from typer<0.10.0,>=0.3.0->spacy<3.8.0,>=3.7.0->nl-core-news-lg==3.7.0) (8.1.7)\n",
            "Requirement already satisfied: cloudpathlib<0.17.0,>=0.7.0 in /usr/local/lib/python3.10/dist-packages (from weasel<0.4.0,>=0.1.0->spacy<3.8.0,>=3.7.0->nl-core-news-lg==3.7.0) (0.16.0)\n",
            "Requirement already satisfied: MarkupSafe>=2.0 in /usr/local/lib/python3.10/dist-packages (from jinja2->spacy<3.8.0,>=3.7.0->nl-core-news-lg==3.7.0) (2.1.5)\n",
            "Installing collected packages: nl-core-news-lg\n",
            "Successfully installed nl-core-news-lg-3.7.0\n",
            "\u001b[38;5;2m✔ Download and installation successful\u001b[0m\n",
            "You can now load the package via spacy.load('nl_core_news_lg')\n",
            "\u001b[38;5;3m⚠ Restart to reload dependencies\u001b[0m\n",
            "If you are in a Jupyter or Colab notebook, you may need to restart Python in\n",
            "order to load all the package's dependencies. You can do this by selecting the\n",
            "'Restart kernel' or 'Restart runtime' option.\n"
          ]
        }
      ],
      "source": [
        "!pip install python_graphql_client\n",
        "!python -m spacy download nl_core_news_lg\n",
        "\n",
        "import spacy\n",
        "import json\n",
        "import sys\n",
        "from spacy.matcher import Matcher\n",
        "from python_graphql_client import GraphqlClient"
      ]
    },
    {
      "cell_type": "markdown",
      "metadata": {
        "id": "Al21TRcGKt6c"
      },
      "source": [
        "Define the sentence to perform the NER on (uncomment to use other examples or define your own text)."
      ]
    },
    {
      "cell_type": "code",
      "execution_count": null,
      "metadata": {
        "id": "5ixGVwsJYrx4"
      },
      "outputs": [],
      "source": [
        "# based on https://github.com/EnnoMeijers/ner-not-pipeline/blob/main/stadhuis-veere.txt\n",
        "sentence = \"Het stadhuis van Veere. Laatgotisch gebouw, in 1474 begonnen. Waarschijnlijk ontworpen door mr Evert Spoorwater, geboren te Gouda. De gevel van gobertangersteen is nog vrijwel geheel in de oorspronkelijke toestand. Zij vertoont uitgekraagde hoektorentjes, stenen kruiskozijnen overdekt met korfbogen, waarin verdiepte velden versierd met gotische traceringen, en nissen in de vensterdammen op de verdieping. De oorspronkelijke beelden, in 1517 vervaardigd door Michiel Ywijns, zijn uit de nissen verwijderd en vervangen door replieken van de hand van O. Wenckebach uit Amersfoort, welke heren en vrouwen van Veere voorstellen. Een bordes uit 1588, in 1749 gewijzigd in Lodewijk XIV stijl, geeft toegang tot de hoofdingang, terwijl in het travee rechts van de ingangspartij het venster geflankeerd wordt door twee beeldnissen. De traptoren, aangebouwd tegen de bakstenen achtergevel en behorend bij het oorspronkelijke plan, werd na 1591 gedeeltelijk afgebroken en tussen 1594 en 1599 vervangen door een slanke bovenbouw, die ontworpen is door Adriaen de Muer, geboortig uit Brugge.\"\n",
        "\n",
        "# based on https://github.com/EnnoMeijers/ner-not-pipeline/blob/main/haarlem.txt\n",
        "# sentence = \"Haarlem behoort tot de middelgrote steden in de Randstad. Tot de gemeente Haarlem behoren de stad Haarlem en het westelijke deel van het dorp Spaarndam. Haarlem telt 165.650 inwoners[1] en is daarmee na Amsterdam de grootste stad van Noord-Holland en de dertiende gemeente van Nederland. De grootstedelijke agglomeratie Haarlem (Haarlem, Heemstede, Bloemendaal en Zandvoort) telt ongeveer 235.000 inwoners,[1] en het stadsgewest Haarlem (Zuid-Kennemerland en IJmond) ruim 385.000 inwoners.[1] Haarlem wordt voor het eerst genoemd in een document uit de 10e eeuw. In 1245 kreeg het stadsrechten van Willem II van Holland. Aan het eind van de middeleeuwen was Haarlem een van de belangrijkste steden van Holland geworden. In de Vroegmoderne Tijd ontwikkelde de stad zich op industrieel gebied als textielstad en op cultureel gebied als schildersstad.\"\n",
        "\n",
        "# based on https://github.com/EnnoMeijers/ner-not-pipeline/blob/main/netsuke.txt\n",
        "# sentence = \"Netsuke - Japanse gordelknoop. Omdat een traditionele Japanse kimono geen zakken had, werd alles aan koorden (himo) gehangen. De koorden werden achter een riem (obi) doorgehaald. Om ervoor te zorgen dat de koorden bleven hangen, werden ze aan de bovenkant met een netsuke (gordelknoop) vastgemaakt. De voorstelling van de netsuke had een diepere betekenis. Meestal droeg de drager er een van zijn geboortejaar, bijvoorbeeld het jaar van de aap. Het materiaal kon van alles zijn. Zo zal een houthakker meestal hout gebruiken, een visser zal een netsuke van visbeen maken. Deze netsuke is van porselein en komt uit de collectie gemeente Vlissingen.\"\n",
        "\n"
      ]
    },
    {
      "cell_type": "markdown",
      "metadata": {
        "id": "uSM7m8YXaI8u"
      },
      "source": [
        "Next, we defined the terminology source to be searched via the Network of Terms, per NER resultype."
      ]
    },
    {
      "cell_type": "code",
      "execution_count": null,
      "metadata": {
        "id": "RTHRlEKIo7NV"
      },
      "outputs": [],
      "source": [
        "# based on https://github.com/EnnoMeijers/ner-not-pipeline/blob/main/config.json\n",
        "\n",
        "config={'CONCEPT': [\n",
        "                    'http://vocab.getty.edu/aat/sparql',\n",
        "                    'https://data.cultureelerfgoed.nl/PoolParty/sparql/term/id/cht'\n",
        "                   ],\n",
        "        'DATE': [\n",
        "                    'http://vocab.getty.edu/aat/sparql/styles-and-periods',\n",
        "                    'https://data.cultureelerfgoed.nl/PoolParty/sparql/term/id/cht/styles-and-periods'\n",
        "                ],\n",
        "        'EVENT': [\n",
        "                    'https://query.wikidata.org/sparql#entities-all'\n",
        "                 ],\n",
        "        'GPE': [\n",
        "                    'https://demo.netwerkdigitaalerfgoed.nl/geonames',\n",
        "                    'https://query.wikidata.org/sparql#entities-places'\n",
        "               ],\n",
        "        'ORG': [\n",
        "                    'https://query.wikidata.org/sparql#entities-all'\n",
        "               ],\n",
        "        'PERSON': [\n",
        "                    'https://data.netwerkdigitaalerfgoed.nl/rkd/rkdartists/sparql',\n",
        "                    'http://data.bibliotheken.nl/thesp/sparql',\n",
        "                    'https://data.muziekschatten.nl/sparql/#personen',\n",
        "                    'https://query.wikidata.org/sparql#entities-persons',\n",
        "                    'https://data.beeldengeluid.nl/id/datadownload/0030'\n",
        "                  ]\n",
        "        }\n"
      ]
    },
    {
      "cell_type": "markdown",
      "metadata": {
        "id": "l6P-keVPKyFd"
      },
      "source": [
        "Some function definitions..."
      ]
    },
    {
      "cell_type": "code",
      "execution_count": null,
      "metadata": {
        "id": "4pHgn8Qko7Y-"
      },
      "outputs": [],
      "source": [
        "def queryTN(sources,searchTerm):\n",
        "\n",
        "    # Prepare the search query\n",
        "    query = \"\"\"\n",
        "      query tn($sources: [ID]!, $searchTerm: String!) {\n",
        "        terms( sources: $sources, query: $searchTerm ) {\n",
        "          result {\n",
        "            __typename\n",
        "            ... on Terms {\n",
        "              terms { uri prefLabel altLabel hiddenLabel scopeNote seeAlso }\n",
        "            }\n",
        "            ... on Error {\n",
        "              message\n",
        "            }\n",
        "          }\n",
        "        }\n",
        "      }\n",
        "    \"\"\"\n",
        "\n",
        "    # Perform a synchronous request for simplicity\n",
        "    return client.execute(query=query, variables= {\"sources\": sources, \"searchTerm\": searchTerm })\n",
        "\n",
        "def matchLabel(labels,searchLabel):\n",
        "  for label in labels:\n",
        "    if label.strip().lower() == searchLabel:\n",
        "      return label\n",
        "  return False\n",
        "\n",
        "def Refine(ner,nerType):\n",
        "\n",
        "  # only proces nerTypes that are defined in the config file\n",
        "  if not (nerType in config):\n",
        "    return False\n",
        "\n",
        "  # use source selection from the config.json\n",
        "  sourceList=config[nerType]\n",
        "\n",
        "  print(\"- looking up\",nerType,ner,\"via\",sourceList)\n",
        "  # perform Network of Terms request for this NER\n",
        "  data=queryTN(sourceList,ner)\n",
        "\n",
        "  # select the resultLists per source\n",
        "  resultList = data['data']['terms']\n",
        "  for results in resultList:\n",
        "    if(results['result']['__typename']==\"Terms\"):\n",
        "      terms=results['result']['terms']\n",
        "      for term in terms:\n",
        "        found=matchLabel(term['prefLabel'],ner)\n",
        "        if(found):\n",
        "          return term\n",
        "        found=matchLabel(term['altLabel'],ner)\n",
        "        if(found):\n",
        "          return term\n",
        "  return False\n",
        "\n",
        "def processKeywords():\n",
        "  token_details = []\n",
        "  print(\"Processing keywords\")\n",
        "  for token in doc:\n",
        "    if(token.pos_==\"NOUN\"):\n",
        "      if not token.text in termList:\n",
        "        termFound=Refine(token.text,\"CONCEPT\")\n",
        "        if(termFound):\n",
        "          termList[token.text]=termFound\n",
        "  print(\"\\nKeywords processing finshed!\")\n",
        "\n",
        "def processNERs():\n",
        "  ner_details = []\n",
        "  for ent in doc.ents:\n",
        "    row=(ent.text, ent.label_,spacy.explain(ent.label_))\n",
        "    if not (row in ner_details):\n",
        "      ner_details.append(row)\n",
        "\n",
        "  print(\"Processing named entities\")\n",
        "  for row in ner_details:\n",
        "    ner=row[0].strip().lower()\n",
        "    nerType=row[1]\n",
        "    if not ner in termList:\n",
        "      termFound=Refine(ner,nerType)\n",
        "      if(termFound):\n",
        "        termList[ner]=termFound\n",
        "  print(\"\\nNER processing finished!\")\n",
        "\n",
        "def writeCSV():\n",
        "  outFile='results.csv'\n",
        "  with open(outFile,\"w\") as fileHandle:\n",
        "    print('searchTerm;URI;prefLabel;altLabel;scopeNote',file=fileHandle)\n",
        "    for term in termList:\n",
        "      print(\n",
        "        term +\";\"+\n",
        "        termList[term]['uri'] +\";\"+\n",
        "        ', '.join(termList[term]['prefLabel']) +\";\"+\n",
        "        ', '.join(termList[term]['altLabel']) +\";\"+\n",
        "        ', '.join(termList[term]['scopeNote']),\n",
        "        file=fileHandle\n",
        "      )\n",
        "  print(\"Results written to\",outFile)"
      ]
    },
    {
      "cell_type": "markdown",
      "metadata": {
        "id": "E2rStAGrKixD"
      },
      "source": [
        "Now it's time to perform the NER and Refine the found terms."
      ]
    },
    {
      "cell_type": "code",
      "execution_count": null,
      "metadata": {
        "colab": {
          "base_uri": "https://localhost:8080/"
        },
        "id": "4QbfDjOpfdBD",
        "outputId": "0f7ad4a1-a9f5-4aa9-8ed9-e75e541fb22c"
      },
      "outputs": [
        {
          "name": "stdout",
          "output_type": "stream",
          "text": [
            "Processing named entities\n",
            "- looking up GPE veere via ['https://demo.netwerkdigitaalerfgoed.nl/geonames', 'https://query.wikidata.org/sparql#entities-places']\n",
            "- looking up DATE 1474 via ['http://vocab.getty.edu/aat/sparql/styles-and-periods', 'https://data.cultureelerfgoed.nl/PoolParty/sparql/term/id/cht/styles-and-periods']\n",
            "- looking up PERSON mr evert spoorwater via ['https://data.netwerkdigitaalerfgoed.nl/rkd/rkdartists/sparql', 'http://data.bibliotheken.nl/thesp/sparql', 'https://data.muziekschatten.nl/sparql/#personen', 'https://query.wikidata.org/sparql#entities-persons', 'https://data.beeldengeluid.nl/id/datadownload/0030']\n",
            "- looking up GPE gouda via ['https://demo.netwerkdigitaalerfgoed.nl/geonames', 'https://query.wikidata.org/sparql#entities-places']\n",
            "- looking up DATE 1517 via ['http://vocab.getty.edu/aat/sparql/styles-and-periods', 'https://data.cultureelerfgoed.nl/PoolParty/sparql/term/id/cht/styles-and-periods']\n",
            "- looking up PERSON michiel ywijns via ['https://data.netwerkdigitaalerfgoed.nl/rkd/rkdartists/sparql', 'http://data.bibliotheken.nl/thesp/sparql', 'https://data.muziekschatten.nl/sparql/#personen', 'https://query.wikidata.org/sparql#entities-persons', 'https://data.beeldengeluid.nl/id/datadownload/0030']\n",
            "- looking up PERSON o. wenckebach via ['https://data.netwerkdigitaalerfgoed.nl/rkd/rkdartists/sparql', 'http://data.bibliotheken.nl/thesp/sparql', 'https://data.muziekschatten.nl/sparql/#personen', 'https://query.wikidata.org/sparql#entities-persons', 'https://data.beeldengeluid.nl/id/datadownload/0030']\n",
            "- looking up GPE amersfoort via ['https://demo.netwerkdigitaalerfgoed.nl/geonames', 'https://query.wikidata.org/sparql#entities-places']\n",
            "- looking up DATE 1588 via ['http://vocab.getty.edu/aat/sparql/styles-and-periods', 'https://data.cultureelerfgoed.nl/PoolParty/sparql/term/id/cht/styles-and-periods']\n",
            "- looking up DATE 1749 via ['http://vocab.getty.edu/aat/sparql/styles-and-periods', 'https://data.cultureelerfgoed.nl/PoolParty/sparql/term/id/cht/styles-and-periods']\n",
            "- looking up PERSON lodewijk xiv via ['https://data.netwerkdigitaalerfgoed.nl/rkd/rkdartists/sparql', 'http://data.bibliotheken.nl/thesp/sparql', 'https://data.muziekschatten.nl/sparql/#personen', 'https://query.wikidata.org/sparql#entities-persons', 'https://data.beeldengeluid.nl/id/datadownload/0030']\n",
            "- looking up DATE 1591 via ['http://vocab.getty.edu/aat/sparql/styles-and-periods', 'https://data.cultureelerfgoed.nl/PoolParty/sparql/term/id/cht/styles-and-periods']\n",
            "- looking up DATE 1594 via ['http://vocab.getty.edu/aat/sparql/styles-and-periods', 'https://data.cultureelerfgoed.nl/PoolParty/sparql/term/id/cht/styles-and-periods']\n",
            "- looking up DATE 1599 via ['http://vocab.getty.edu/aat/sparql/styles-and-periods', 'https://data.cultureelerfgoed.nl/PoolParty/sparql/term/id/cht/styles-and-periods']\n",
            "- looking up PERSON adriaen de muer via ['https://data.netwerkdigitaalerfgoed.nl/rkd/rkdartists/sparql', 'http://data.bibliotheken.nl/thesp/sparql', 'https://data.muziekschatten.nl/sparql/#personen', 'https://query.wikidata.org/sparql#entities-persons', 'https://data.beeldengeluid.nl/id/datadownload/0030']\n",
            "- looking up GPE brugge via ['https://demo.netwerkdigitaalerfgoed.nl/geonames', 'https://query.wikidata.org/sparql#entities-places']\n",
            "\n",
            "NER processing finished!\n"
          ]
        }
      ],
      "source": [
        "# Specify the Network-of-Terms GraphQL API\n",
        "client = GraphqlClient(endpoint=\"https://termennetwerk-api.netwerkdigitaalerfgoed.nl/graphql\")\n",
        "\n",
        "# load a Dutch language model\n",
        "nlp = spacy.load(\"nl_core_news_lg\")\n",
        "doc = nlp(sentence)\n",
        "\n",
        "# initialize resultlist\n",
        "termList = {}\n",
        "\n",
        "# find relevant concepts URIs based on the nouns in the text, commented out to speed things up\n",
        "# processKeywords()\n",
        "\n",
        "# find relevant URIs for locations and persons based on the namend entities in the text\n",
        "processNERs()"
      ]
    },
    {
      "cell_type": "markdown",
      "metadata": {
        "id": "hVlD0AL1K68C"
      },
      "source": [
        "Show results in pretty JSON"
      ]
    },
    {
      "cell_type": "code",
      "execution_count": null,
      "metadata": {
        "colab": {
          "base_uri": "https://localhost:8080/"
        },
        "id": "8VVU_P86lq6J",
        "outputId": "19dc1c8a-ee63-4ec2-8f1f-89d057c0003d"
      },
      "outputs": [
        {
          "name": "stdout",
          "output_type": "stream",
          "text": [
            "{\n",
            "    \"veere\": {\n",
            "        \"uri\": \"https://sws.geonames.org/2745739/\",\n",
            "        \"prefLabel\": [\n",
            "            \"Veere (NL)\"\n",
            "        ],\n",
            "        \"altLabel\": [\n",
            "            \"Veera\",\n",
            "            \"Vere\",\n",
            "            \"\\u0412\\u0435\\u0435\\u0440\\u0430\",\n",
            "            \"Veere\"\n",
            "        ],\n",
            "        \"hiddenLabel\": [],\n",
            "        \"scopeNote\": [\n",
            "            \"populated place\"\n",
            "        ],\n",
            "        \"seeAlso\": []\n",
            "    },\n",
            "    \"gouda\": {\n",
            "        \"uri\": \"https://sws.geonames.org/2755419/\",\n",
            "        \"prefLabel\": [\n",
            "            \"Gemeente Gouda (NL)\",\n",
            "            \"Gemeente Gouda\"\n",
            "        ],\n",
            "        \"altLabel\": [\n",
            "            \"ghwda\",\n",
            "            \"\\u0628\\u0644\\u062f\\u064a\\u0629 \\u063a\\u0648\\u062f\\u0629\",\n",
            "            \"\\u0628\\u0644\\u062f\\u064a\\u0629 \\u063a\\u0648\\u062f\\u0627\",\n",
            "            \"\\u063a\\u0648\\u062f\\u0627\",\n",
            "            \"Gemeente Gouda\",\n",
            "            \"ghwdt\",\n",
            "            \"bldyt ghwda\",\n",
            "            \"Gouda\",\n",
            "            \"bldyt ghwdt\",\n",
            "            \"\\u063a\\u0648\\u062f\\u0629\"\n",
            "        ],\n",
            "        \"hiddenLabel\": [],\n",
            "        \"scopeNote\": [\n",
            "            \"second-order administrative division\"\n",
            "        ],\n",
            "        \"seeAlso\": []\n",
            "    },\n",
            "    \"o. wenckebach\": {\n",
            "        \"uri\": \"http://www.wikidata.org/entity/Q2104344\",\n",
            "        \"prefLabel\": [\n",
            "            \"Oswald Wenckebach\"\n",
            "        ],\n",
            "        \"altLabel\": [\n",
            "            \"L. O. Wenckebach\",\n",
            "            \"L.O. Wenckebach\",\n",
            "            \"O. Wenckebach\"\n",
            "        ],\n",
            "        \"hiddenLabel\": [],\n",
            "        \"scopeNote\": [\n",
            "            \"Nederlands kunstenaar\"\n",
            "        ],\n",
            "        \"seeAlso\": []\n",
            "    },\n",
            "    \"amersfoort\": {\n",
            "        \"uri\": \"https://sws.geonames.org/2759821/\",\n",
            "        \"prefLabel\": [\n",
            "            \"Amersfoort (NL)\"\n",
            "        ],\n",
            "        \"altLabel\": [\n",
            "            \"\\u0410\\u043c\\u0435\\u0440\\u0441\\u0444\\u043e\\u0440\\u0442\",\n",
            "            \"Amersfort\",\n",
            "            \"Amersforto\",\n",
            "            \"QYM\",\n",
            "            \"Amersfoort\"\n",
            "        ],\n",
            "        \"hiddenLabel\": [],\n",
            "        \"scopeNote\": [\n",
            "            \"populated place\"\n",
            "        ],\n",
            "        \"seeAlso\": []\n",
            "    },\n",
            "    \"brugge\": {\n",
            "        \"uri\": \"https://sws.geonames.org/2800930/\",\n",
            "        \"prefLabel\": [\n",
            "            \"Arrondissement Brugge (BE)\"\n",
            "        ],\n",
            "        \"altLabel\": [\n",
            "            \"Arrondissement administratif de Bruges\",\n",
            "            \"\\u5e03\\u9b6f\\u65e5\\u5340\",\n",
            "            \"\\u0411\\u0440\\u044e\\u0433\\u0435\",\n",
            "            \"Brugge\",\n",
            "            \"Brjuge\",\n",
            "            \"Bruges\",\n",
            "            \"Arrondissement Brugge\",\n",
            "            \"Arrondissement de Bruges\",\n",
            "            \"\\u0634\\u0647\\u0631\\u0633\\u062a\\u0627\\u0646 \\u0628\\u0631\\u0648\\u0698\",\n",
            "            \"Bezirk Bruegge\",\n",
            "            \"Arroundissement Brugge\",\n",
            "            \"Arrondissement of Bruges\",\n",
            "            \"bu lu ri qu\",\n",
            "            \"Arondisamant Brugge\",\n",
            "            \"Arrondissement di Bruges\",\n",
            "            \"shhrstan brwzh\",\n",
            "            \"Brugge ringkond\",\n",
            "            \"Bezirk Br\\u00fcgge\"\n",
            "        ],\n",
            "        \"hiddenLabel\": [],\n",
            "        \"scopeNote\": [\n",
            "            \"third-order administrative division\"\n",
            "        ],\n",
            "        \"seeAlso\": []\n",
            "    }\n",
            "}\n",
            "Results written to results.csv\n"
          ]
        }
      ],
      "source": [
        "print(json.dumps(termList, indent=4))\n",
        "\n",
        "# write results to the file results.csv\n",
        "writeCSV()"
      ]
    }
  ],
  "metadata": {
    "colab": {
      "provenance": []
    },
    "kernelspec": {
      "display_name": "Python 3",
      "name": "python3"
    }
  },
  "nbformat": 4,
  "nbformat_minor": 0
}